{
 "cells": [
  {
   "metadata": {},
   "cell_type": "markdown",
   "source": [
    "# Question 1\n",
    "- Write a function (`guessing_game`) that takes no arguments.\n",
    "- When run, the function chooses a random integer between 0 and 100 (inclusive).\n",
    "- Then ask the user to guess what number has been chosen.\n",
    "- Each time the user enters a guess, the program indicates one of the following:\n",
    "    - Too high\n",
    "    - Too low\n",
    "    - Just right\n",
    "- If the user guesses correctly, the program exits. Otherwise, the user is asked to try again.\n",
    "- The program only exits after the user guesses correctly.\n"
   ],
   "id": "6f701b5d5cf54ff7"
  },
  {
   "metadata": {
    "ExecuteTime": {
     "end_time": "2024-10-05T05:01:25.286825Z",
     "start_time": "2024-10-05T05:01:25.284318Z"
    }
   },
   "cell_type": "code",
   "source": "import random",
   "id": "78943e3e96b2aece",
   "outputs": [],
   "execution_count": 26
  },
  {
   "metadata": {
    "ExecuteTime": {
     "end_time": "2024-10-05T05:01:31.734997Z",
     "start_time": "2024-10-05T05:01:27.698640Z"
    }
   },
   "cell_type": "code",
   "source": [
    "name = input('Enter your name: ')\n",
    "print(f'Hello, {name}!')  # f-strings are fun"
   ],
   "id": "9f3980aabc1d58ad",
   "outputs": [
    {
     "name": "stdout",
     "output_type": "stream",
     "text": [
      "Hello, Sejal!\n"
     ]
    }
   ],
   "execution_count": 27
  },
  {
   "metadata": {
    "ExecuteTime": {
     "end_time": "2024-10-05T05:02:27.713371Z",
     "start_time": "2024-10-05T05:01:41.067830Z"
    }
   },
   "cell_type": "code",
   "source": [
    "def guessing_game():\n",
    "    number = random.randint(0, 100)  # note to explore the random library\n",
    "\n",
    "    while True:\n",
    "        guess = int(input('Guess a number between 0 and 100 (inclusive): '))\n",
    "\n",
    "        if guess == number:\n",
    "            print(f'Just right! The answer is {guess}')\n",
    "            break\n",
    "\n",
    "        if guess < number:\n",
    "            print(f'Your guess of {guess} is too low.')\n",
    "        else:\n",
    "            print(f'Your guess of {guess} is too high.')\n",
    "\n",
    "guessing_game()"
   ],
   "id": "545ae2c185b4c914",
   "outputs": [
    {
     "name": "stdout",
     "output_type": "stream",
     "text": [
      "Your guess of 14 is too low.\n",
      "Your guess of 56 is too low.\n",
      "Your guess of 78 is too low.\n",
      "Your guess of 89 is too high.\n",
      "Your guess of 98 is too high.\n",
      "Your guess of 83 is too high.\n",
      "Your guess of 80 is too low.\n",
      "Your guess of 81 is too low.\n",
      "Just right! The answer is 82\n"
     ]
    }
   ],
   "execution_count": 28
  },
  {
   "metadata": {},
   "cell_type": "markdown",
   "source": "- Modify this program, such that it gives the user only three chances to guess the correct number. If they try three times without success, the program tells them that they didn’t guess in time and then exits.",
   "id": "1eceb46660ba0c79"
  },
  {
   "metadata": {
    "ExecuteTime": {
     "end_time": "2024-10-05T05:02:45.153497Z",
     "start_time": "2024-10-05T05:02:35.772728Z"
    }
   },
   "cell_type": "code",
   "source": [
    "def guessing_game():\n",
    "    number = random.randint(0, 100)\n",
    "    print(f'The number to guess is {number}.')\n",
    "    remaining_guesses = 2\n",
    "\n",
    "    while remaining_guesses >= 0:\n",
    "        remaining_guesses -= 1\n",
    "        guess = int(input('Guess a number between 0 and 100 (inclusive) in 3 chances: '))\n",
    "\n",
    "        if guess == number:\n",
    "            print(f'Just right! The answer is {guess}')\n",
    "            break\n",
    "\n",
    "        if guess < number:\n",
    "            print(f'Your guess of {guess} is too low.')\n",
    "        else:\n",
    "            print(f'Your guess of {guess} is too high.')\n",
    "    else:\n",
    "        print(f'You did not guess in time.')\n",
    "\n",
    "\n",
    "guessing_game()"
   ],
   "id": "ad57c7070cafe3f8",
   "outputs": [
    {
     "name": "stdout",
     "output_type": "stream",
     "text": [
      "The number to guess is 79.\n",
      "Your guess of 45 is too low.\n",
      "Just right! The answer is 79\n"
     ]
    }
   ],
   "execution_count": 29
  },
  {
   "metadata": {},
   "cell_type": "markdown",
   "source": "- Not only should you choose a random number, but you should also choose a random number base, from 2 to 16, in which the user should submit their input. If the user inputs “10” as their guess, you’ll need to interpret it in the correct number base; “10” might mean 10 (decimal), or 2 (binary), or 16 (hexadecimal).",
   "id": "d80a5b295814395b"
  },
  {
   "metadata": {
    "ExecuteTime": {
     "end_time": "2024-10-05T05:03:51.824037Z",
     "start_time": "2024-10-05T05:03:33.797229Z"
    }
   },
   "cell_type": "code",
   "source": [
    "def guessing_game():\n",
    "    number = random.randint(0, 100)\n",
    "    print(f'The number to guess is {number}.')\n",
    "    base = random.randint(2, 16)\n",
    "    print(f'The base for the guess is {base}.')\n",
    "    remaining_guesses = 2\n",
    "\n",
    "    while remaining_guesses >= 0:\n",
    "        remaining_guesses -= 1\n",
    "        guess = int(input('Guess a number between 0 and 100 (inclusive) in 3 chances: '), base)  # int takes the base as an argument, 2/8/10/16 are commonly known bases\n",
    "\n",
    "        if guess == number:\n",
    "            print(f'Just right! The answer is {guess}')\n",
    "            break\n",
    "\n",
    "        if guess < number:\n",
    "            print(f'Your guess of {guess} is too low.')\n",
    "        else:\n",
    "            print(f'Your guess of {guess} is too high.')\n",
    "    else:\n",
    "        print(f'You did not guess in time.')\n",
    "\n",
    "\n",
    "guessing_game()"
   ],
   "id": "bace7832a6ecc737",
   "outputs": [
    {
     "name": "stdout",
     "output_type": "stream",
     "text": [
      "The number to guess is 56.\n",
      "The base for the guess is 15.\n",
      "Your guess of 129 is too high.\n",
      "Your guess of 110 is too high.\n",
      "Your guess of 81 is too high.\n",
      "You did not guess in time.\n"
     ]
    }
   ],
   "execution_count": 32
  },
  {
   "metadata": {},
   "cell_type": "markdown",
   "source": "- Try the same thing, but have the program choose a random word from the dictionary, and then ask the user to guess the word. (You might want to limit yourself to words containing two to five letters, to avoid making it too horribly difficult.) Instead of telling the user that they should guess a smaller or larger number, have them choose an earlier or later word in the dict.",
   "id": "9f151014d7ed2a8c"
  },
  {
   "metadata": {
    "ExecuteTime": {
     "end_time": "2024-10-05T05:04:02.288655Z",
     "start_time": "2024-10-05T05:04:02.166815Z"
    }
   },
   "cell_type": "code",
   "source": [
    "import nltk  # nltk (natural language toolkit) has a comprehensive list of English words\n",
    "nltk.download('words')\n",
    "from nltk.corpus import words\n",
    "\n",
    "all_words = words.words()\n",
    "\n",
    "words = [word.lower() for word in all_words if 2 <= len(word) <= 5]"
   ],
   "id": "68cbcd7c7a81e1c1",
   "outputs": [
    {
     "name": "stderr",
     "output_type": "stream",
     "text": [
      "[nltk_data] Downloading package words to /Users/sejal/nltk_data...\n",
      "[nltk_data]   Package words is already up-to-date!\n"
     ]
    }
   ],
   "execution_count": 33
  },
  {
   "metadata": {
    "ExecuteTime": {
     "end_time": "2024-10-05T05:04:21.072376Z",
     "start_time": "2024-10-05T05:04:03.727778Z"
    }
   },
   "cell_type": "code",
   "source": [
    "def guessing_game():\n",
    "    word = random.choice(words)\n",
    "    print(f'The word to guess is {word}.')\n",
    "    remaining_guesses = 2\n",
    "\n",
    "    while remaining_guesses >= 0:\n",
    "        remaining_guesses -= 1\n",
    "        guess = str(input('Guess a word in lower case containing two to five letters in three chances: '))\n",
    "\n",
    "        if guess == word:\n",
    "            print(f'Just right! The answer is {guess}')\n",
    "            break\n",
    "\n",
    "        if guess < word:\n",
    "            print(f'Your guess of {guess} is too early in the dictionary.')\n",
    "        else:\n",
    "            print(f'Your guess of {guess} is too late in the dictionary.')\n",
    "    else:\n",
    "        print(f'You did not guess in time.')\n",
    "\n",
    "\n",
    "guessing_game()"
   ],
   "id": "67f0d5361945f137",
   "outputs": [
    {
     "name": "stdout",
     "output_type": "stream",
     "text": [
      "The word to guess is orca.\n",
      "Your guess of rain is too late in the dictionary.\n",
      "Your guess of orcas is too late in the dictionary.\n",
      "Just right! The answer is orca\n"
     ]
    }
   ],
   "execution_count": 34
  },
  {
   "metadata": {},
   "cell_type": "markdown",
   "source": [
    "# Question 2\n",
    "Reimplement the `sum` function that comes with Python. That function takes a sequence of numbers and returns the sum of those numbers. So if you were to invoke `sum([1,2,3])`, the result would be 6.\n",
    "\n",
    "The challenge here is to write a `mysum` function that does the same thing as the built-in `sum` function. However, instead of taking a single sequence as a parameter, it should take a variable number of arguments. Thus, although you might invoke `sum([1,2,3])`, you’d instead invoke `mysum(1,2,3)` or `mysum(10,20,30,40,50)`.\n"
   ],
   "id": "3f77553e05991207"
  },
  {
   "metadata": {
    "ExecuteTime": {
     "end_time": "2024-10-05T05:04:26.031027Z",
     "start_time": "2024-10-05T05:04:26.026863Z"
    }
   },
   "cell_type": "code",
   "source": [
    "def mysum(*numbers): # mostly a lesson in splat operator\n",
    "    output = 0\n",
    "    for number in numbers:\n",
    "        output += number\n",
    "    return output\n",
    "\n",
    "print(mysum(45, 56, 67, 78, 89))"
   ],
   "id": "c6886b41b7aa888e",
   "outputs": [
    {
     "name": "stdout",
     "output_type": "stream",
     "text": [
      "335\n"
     ]
    }
   ],
   "execution_count": 35
  },
  {
   "metadata": {},
   "cell_type": "code",
   "outputs": [],
   "execution_count": null,
   "source": "",
   "id": "257709b9d22b72a5"
  }
 ],
 "metadata": {
  "kernelspec": {
   "display_name": "Python 3",
   "language": "python",
   "name": "python3"
  },
  "language_info": {
   "codemirror_mode": {
    "name": "ipython",
    "version": 2
   },
   "file_extension": ".py",
   "mimetype": "text/x-python",
   "name": "python",
   "nbconvert_exporter": "python",
   "pygments_lexer": "ipython2",
   "version": "2.7.6"
  }
 },
 "nbformat": 4,
 "nbformat_minor": 5
}
